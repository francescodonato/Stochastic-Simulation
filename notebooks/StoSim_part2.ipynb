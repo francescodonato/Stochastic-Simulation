{
 "cells": [
  {
   "cell_type": "code",
   "execution_count": 1,
   "metadata": {},
   "outputs": [],
   "source": [
    "%load_ext rpy2.ipython"
   ]
  },
  {
   "cell_type": "code",
   "execution_count": 2,
   "metadata": {},
   "outputs": [
    {
     "name": "stderr",
     "output_type": "stream",
     "text": [
      "R[write to console]: ── \u001b[1mAttaching packages\u001b[22m ─────────────────────────────────────── tidyverse 1.3.0 ──\n",
      "\n",
      "R[write to console]: \u001b[32m✔\u001b[39m \u001b[34mggplot2\u001b[39m 3.3.2     \u001b[32m✔\u001b[39m \u001b[34mpurrr  \u001b[39m 0.3.4\n",
      "\u001b[32m✔\u001b[39m \u001b[34mtibble \u001b[39m 3.0.1     \u001b[32m✔\u001b[39m \u001b[34mdplyr  \u001b[39m 1.0.0\n",
      "\u001b[32m✔\u001b[39m \u001b[34mtidyr  \u001b[39m 1.1.0     \u001b[32m✔\u001b[39m \u001b[34mstringr\u001b[39m 1.4.0\n",
      "\u001b[32m✔\u001b[39m \u001b[34mreadr  \u001b[39m 1.3.1     \u001b[32m✔\u001b[39m \u001b[34mforcats\u001b[39m 0.5.0\n",
      "\n",
      "R[write to console]: ── \u001b[1mConflicts\u001b[22m ────────────────────────────────────────── tidyverse_conflicts() ──\n",
      "\u001b[31m✖\u001b[39m \u001b[34mdplyr\u001b[39m::\u001b[32mfilter()\u001b[39m masks \u001b[34mstats\u001b[39m::filter()\n",
      "\u001b[31m✖\u001b[39m \u001b[34mdplyr\u001b[39m::\u001b[32mlag()\u001b[39m    masks \u001b[34mstats\u001b[39m::lag()\n",
      "\n",
      "R[write to console]: \n",
      "Attaching package: ‘reshape2’\n",
      "\n",
      "\n",
      "R[write to console]: The following object is masked from ‘package:tidyr’:\n",
      "\n",
      "    smiths\n",
      "\n",
      "\n"
     ]
    }
   ],
   "source": [
    "%%R\n",
    "library(tidyverse)\n",
    "library(ggrepel)\n",
    "library(reshape2)\n",
    "library(nleqslv)\n",
    "\n",
    "## multiplot function from R cookbook\n",
    "multiplot <- function(..., plotlist=NULL, file, cols=1, layout=NULL) {\n",
    "  library(grid)\n",
    "\n",
    "  # Make a list from the ... arguments and plotlist\n",
    "  plots <- c(list(...), plotlist)\n",
    "\n",
    "  numPlots = length(plots)\n",
    "\n",
    "  # If layout is NULL, then use 'cols' to determine layout\n",
    "  if (is.null(layout)) {\n",
    "    # Make the panel\n",
    "    # ncol: Number of columns of plots\n",
    "    # nrow: Number of rows needed, calculated from # of cols\n",
    "    layout <- matrix(seq(1, cols * ceiling(numPlots/cols)),\n",
    "                    ncol = cols, nrow = ceiling(numPlots/cols))\n",
    "  }\n",
    "\n",
    " if (numPlots==1) {\n",
    "    print(plots[[1]])\n",
    "\n",
    "  } else {\n",
    "    # Set up the page\n",
    "    grid.newpage()\n",
    "    pushViewport(viewport(layout = grid.layout(nrow(layout), ncol(layout))))\n",
    "\n",
    "    # Make each plot, in the correct location\n",
    "    for (i in 1:numPlots) {\n",
    "      # Get the i,j matrix positions of the regions that contain this subplot\n",
    "      matchidx <- as.data.frame(which(layout == i, arr.ind = TRUE))\n",
    "\n",
    "      print(plots[[i]], vp = viewport(layout.pos.row = matchidx$row,\n",
    "                                      layout.pos.col = matchidx$col))\n",
    "    }\n",
    "  }\n",
    "}"
   ]
  },
  {
   "cell_type": "markdown",
   "metadata": {},
   "source": [
    "## Simulation Event by Event\n",
    "\n",
    "### Discrete event simulation program for a blocking system, i.e. a system with $m$ service units and no waiting room. The offered traffic $A$ is the product of the mean arrival rate and the mean service time.\n",
    "\n",
    "The blocking system can be though as a queing system with $m$ server in parallel that reject the \"customers\" if there is not any available resource.\n",
    "\n",
    "The modelling of the system is done through the following function:"
   ]
  },
  {
   "cell_type": "code",
   "execution_count": 3,
   "metadata": {},
   "outputs": [],
   "source": [
    "%%R\n",
    "hyperexp<-function(n,lambda1,lambda2,p1,p2){\n",
    "  times<-rep(0,n)\n",
    "  exp_matr<-matrix(c(rexp(n,lambda1),rexp(n,lambda2)),ncol = 2)\n",
    "  temp<-replicate(n,sample(1:2,size = 1,prob = c(p1,p2)))\n",
    "  for(i in 1:n){\n",
    "    times[i]<-exp_matr[i,temp[i]]\n",
    "  }\n",
    "  return(times)\n",
    "}\n",
    "\n",
    "##########################################################################################\n",
    "erlang_dist<-function(n,mean_erlang,nr_erlang){\n",
    "  replicate(n,(-mean_erlang/nr_erlang)*log(prod(runif(nr_erlang))))\n",
    "}\n",
    "\n",
    "##########################################################################################\n",
    "## Simulation\n",
    "sim_ev_by_ev<-function(event_type=\"poisson\", service=\"exp\",n=10000,lambda=1,lambda2=1,\n",
    "                       p1=0.5,p2=0.5,mean=8,par2=1,nr_erlang=10,nr_units=10,\n",
    "                       return_val=\"complete\",seed=NULL){\n",
    "  set.seed(seed)\n",
    "  if(event_type==\"poisson\"){\n",
    "    event_list<-cumsum(rexp(n,lambda))\n",
    "  }\n",
    "  else if(event_type==\"hyper\"){\n",
    "    event_list<-cumsum(hyperexp(n,lambda,lambda2,p1,p2))\n",
    "  }\n",
    "  else if(event_type==\"erlang\"){\n",
    "    event_list<-cumsum(erlang_dist(n,mean_erlang = lambda,nr_erlang))\n",
    "  }\n",
    "  if(service==\"exp\"){\n",
    "    t_service<-rexp(n,rate = 1/mean)\n",
    "  }\n",
    "  else if(service==\"const\"){\n",
    "    t_service<-rep(x = mean,n)\n",
    "  }\n",
    "  else if(service==\"norm\"){\n",
    "    t_service<-rnorm(n,mean = mean,sd = par2)\n",
    "  }\n",
    "  \n",
    "  else if(service==\"pareto\"){\n",
    "    u<-runif(n)\n",
    "    t_service<-mean*(1-u)^(-1/par2)\n",
    "  }\n",
    "  \n",
    "  t_free<-rep(0,nr_units)\n",
    "  nr_served<-rep(0,nr_units)\n",
    "  nr_rejected<-0\n",
    "  \n",
    "  for (i in 1:length(event_list)){\n",
    "    nr_free<-sum(event_list[i]>t_free)\n",
    "    \n",
    "    if(nr_free>0){\n",
    "      ind<-which(event_list[i]>t_free)[sample(1:length(which(event_list[i]>t_free)),1)]\n",
    "      t_free[ind]<-event_list[i]+t_service[i]\n",
    "      nr_served[ind]<- nr_served[ind]+1\n",
    "    }\n",
    "    \n",
    "    else{\n",
    "      nr_rejected<-nr_rejected+1\n",
    "    }\n",
    "  }\n",
    "  \n",
    "  if (return_val==\"complete\"){\n",
    "    return(list(\"Rejected\"=nr_rejected,\"Served per units\" =nr_served,\n",
    "                \"Total served\"=sum(nr_served),\n",
    "                \"Fraction rejected\"=nr_rejected/(sum(nr_served)+nr_rejected)))\n",
    "  }\n",
    "  \n",
    "  else if(return_val==\"simple\"){\n",
    "    return(nr_rejected/(sum(nr_served)+nr_rejected))\n",
    "  }\n",
    "}"
   ]
  },
  {
   "cell_type": "markdown",
   "metadata": {},
   "source": [
    "The first 2 function simulates the _Exponential distribution_ and the _m-Erlang distribution_,that are generated respectively from an $U$ uniform distribution in (0,1) according to the following equations:\n",
    "\n",
    "$$\n",
    "\\begin{aligned}\n",
    "  X_{exponential}&=-\\frac{1}{\\lambda} \\log U\\\\\n",
    "  X_{Erlang}&=\\frac{-\\beta}{m} \\ln \\left(\\prod_{i=1}^{m} U_{i}\\right) \\qquad \\text{with mean }\\beta\n",
    "\\end{aligned}\n",
    "$$\n",
    "\n",
    "Specifically, the function \"hyperexp()\" randomly sample an integer corresponding to the index of the _exponential distributions_ with given probability and return the generated pseudo-sequence.\n",
    "\n",
    "The function \"sim_ev_by_ev()\" simulates the system and keep track of different variables:\n",
    "\n",
    "- _nr_served_, is the number of served customers for each of the $m$ server.\n",
    "- _nr_rejected_, is the number of rejected customers.\n",
    "- _t_free_, is a vector that keep track of the time when the server are available.\n",
    "- _t_service_, is a vector containing the values of the time needed for each customer.\n",
    "- _event_list_, is the clock time, so a vector with consecutive arrival time.\n",
    "\n",
    "The function can generate internally both _t_service_ and _event_list_ from different type of distributions; the customers are _randomly_ assigned to an available server(if available), or rejected. When a customer is served both _nr_served_ and _t_free_ are updated. Finally the function can return a list containg _nr_served_, _nr_rejected_ and their combination(as total number of served customer or fraction of rejected/blocked customer) or can simply return the fraction of blocked customer. A seed can be set to reproduce the result (but this can be detrimental for the random assignation of the customers).\n",
    "\n",
    "It should be noted that _t_service_ and _event_list_ are pre-computed, this permit a single call of the function for all the request of the exercise, however there is a 1-on-1 corrispondence between customers ans service time: in other words if the $k^{th}$ costumer is rejected, then the $k^{th}$ service time is not computed, and if the $(k+1)^{th}$ customer is accepted, then the service time utilized will be the $(k+1)^{th}$; this can be easily changed putting \"_t_service[i-nr_rejected]_\" instead of \"_t_service[i]_\".\n",
    "\n",
    "### The arrival process is modelled as a Poisson process. Report the fraction of blocked customers, and a confidence interval for this fraction. Choose the service time distribution as exponential. The parameters: $m=10,$ mean service time $=8$ time units, mean time between customers $=1$ time unit (corresponding to an offered traffic of $8 \\text { erlang }$), $10 \\times 10.000$ customers.\n",
    "\n",
    "Before proceding in the simulation it is possible to estimate the fraction of blocked customers analytically using the _Erlangs B-formula_:\n",
    "\n",
    "$$\n",
    "B=P(m)=\\frac{\\frac{A^{m}}{m !}}{\\sum_{i=0}^{m} \\frac{A^{i}}{i !}}\n",
    "$$\n",
    "\n",
    "where $A$ is defined as $A=\\lambda s$ with arrival intensity $\\lambda$ and mean service time $s$.\n",
    "\n",
    "This formula is only valid for an arrival process modelled as a Poisson process, without assumption on the distribution of the service time."
   ]
  },
  {
   "cell_type": "code",
   "execution_count": 4,
   "metadata": {},
   "outputs": [
    {
     "name": "stdout",
     "output_type": "stream",
     "text": [
      "[1] 0.1217111\n"
     ]
    }
   ],
   "source": [
    "%%R\n",
    "lambda<-1\n",
    "s<-8\n",
    "A<-lambda*s\n",
    "m<-10\n",
    "B_up<-((A^m)/factorial(m))\n",
    "B_down<-rep(0,m)\n",
    "for(i in 1:m){\n",
    "  B_down[i]<-A^i/factorial(i)\n",
    "}\n",
    "B<-B_up/sum(B_down)\n",
    "B"
   ]
  },
  {
   "cell_type": "markdown",
   "metadata": {},
   "source": [
    "So the propability of being rejected is $\\sim 0.1217$.\n",
    "\n",
    "Lets now perform a simple run of the simulation with total number of arrival $n=10000$ and exponential distribution of the service time with mean $s=8$ and arrival intensity $\\lambda=1$:"
   ]
  },
  {
   "cell_type": "code",
   "execution_count": 5,
   "metadata": {},
   "outputs": [
    {
     "name": "stdout",
     "output_type": "stream",
     "text": [
      "$Rejected\n",
      "[1] 1294\n",
      "\n",
      "$`Served per units`\n",
      " [1] 867 867 868 885 886 878 882 864 884 825\n",
      "\n",
      "$`Total served`\n",
      "[1] 8706\n",
      "\n",
      "$`Fraction rejected`\n",
      "[1] 0.1294\n",
      "\n"
     ]
    }
   ],
   "source": [
    "%%R\n",
    "# The parameters are explicit here but are the same as the default ones\n",
    "sim_ev_by_ev(event_type = \"poisson\",service = \"exp\",lambda = 1, mean = 8,\n",
    "             nr_units = 10,seed = 1)"
   ]
  },
  {
   "cell_type": "markdown",
   "metadata": {},
   "source": [
    "As possible to see from the output, the total number of blocked customer is 1294, so the fraction is 0.1294, really close to the analytical one, also as expected from a random assignation of the customers, the number of services performed for each unit is quite balanced with the exception of the $10^{th}$ one, that show a slighty \"lighter\" workload.\n",
    "\n",
    "---\n",
    "\n",
    "**N.B.**\n",
    "When possible and to conduct an appropriate discussion and comparison, runs with seed setted will be performed.\n",
    "\n",
    "This choice is suboptimal as the random generation \"becomes\" a mathematical function of the seed.\n",
    "\n",
    "---\n",
    "\n",
    "It is required to perform 10 runs of the simulation with 10000 customers each and also to compute a confidence interval that will be based on the following formulation:\n",
    "$$\n",
    "\\mu-t_{\\alpha/2} \\frac{s}{\\sqrt{n}}\\leq \\mu \\leq\\mu +t_{\\alpha/2} \\frac{s}{\\sqrt{n}}\n",
    "$$\n",
    "\n",
    "So first implement a function that will return mean and confidence intervals of the mean:"
   ]
  },
  {
   "cell_type": "code",
   "execution_count": 6,
   "metadata": {},
   "outputs": [],
   "source": [
    "%%R\n",
    "mean_conf_int<-function(x,power=0.95){\n",
    "  conf_int<-t.test(x,conf.level = power)$conf.int\n",
    "  return(list(\"mean\"=mean(x), \"lower bound\"=min(conf_int),\"upper bound\"=max(conf_int)))\n",
    "}"
   ]
  },
  {
   "cell_type": "markdown",
   "metadata": {},
   "source": [
    "To compute multiple run will be used the \"replicate()\" function, the computed confidence interval is 95%:"
   ]
  },
  {
   "cell_type": "code",
   "execution_count": 7,
   "metadata": {},
   "outputs": [
    {
     "name": "stdout",
     "output_type": "stream",
     "text": [
      "$mean\n",
      "[1] 0.11992\n",
      "\n",
      "$`lower bound`\n",
      "[1] 0.1164622\n",
      "\n",
      "$`upper bound`\n",
      "[1] 0.1233778\n",
      "\n"
     ]
    }
   ],
   "source": [
    "%%R\n",
    "Part1<-replicate(10,sim_ev_by_ev(return_val = \"simple\"))\n",
    "mean_conf_int(Part1)"
   ]
  },
  {
   "cell_type": "markdown",
   "metadata": {},
   "source": [
    "now with seed:"
   ]
  },
  {
   "cell_type": "code",
   "execution_count": 8,
   "metadata": {},
   "outputs": [
    {
     "name": "stdout",
     "output_type": "stream",
     "text": [
      "$mean\n",
      "[1] 0.12191\n",
      "\n",
      "$`lower bound`\n",
      "[1] 0.1185399\n",
      "\n",
      "$`upper bound`\n",
      "[1] 0.1252801\n",
      "\n"
     ]
    }
   ],
   "source": [
    "%%R\n",
    "seeds <- 11:20\n",
    "count <- 0\n",
    "Part1<-replicate(10, { count <<- count + 1; sim_ev_by_ev(return_val = \"simple\",\n",
    "                                                         seed = seeds[count])})\n",
    "mean_conf_int(Part1)"
   ]
  },
  {
   "cell_type": "markdown",
   "metadata": {},
   "source": [
    "So this result of 0.12191 should be close to the result of the previous simulation with NULL seed, also the confidence interval for the mean is narrow, around 0.04, so this is a very good result considering only 10 runs.\n",
    "\n",
    "### The arrival process is modelled as a renewal process with same parameters. Report the fraction of blocked customers, and a confidence interval\n",
    "\n",
    "As said before, this part of the exercise will follow what already done in the previous part\n",
    "\n",
    "### Experiment with Erlang distributed inter arrival times with mean of 1\n",
    "\n",
    "Recalling the previous formulation of the Erlang distribution:\n",
    "$$\n",
    "X_{Erlang}=\\frac{-\\beta}{m} \\ln \\left(\\prod_{i=1}^{m} U_{i}\\right) \\qquad \\text{with mean }\\beta\n",
    "$$\n",
    "$m$ will be set to 10:"
   ]
  },
  {
   "cell_type": "code",
   "execution_count": 9,
   "metadata": {},
   "outputs": [
    {
     "name": "stdout",
     "output_type": "stream",
     "text": [
      "$mean\n",
      "[1] 0.06665\n",
      "\n",
      "$`lower bound`\n",
      "[1] 0.06402567\n",
      "\n",
      "$`upper bound`\n",
      "[1] 0.06927433\n",
      "\n"
     ]
    }
   ],
   "source": [
    "%%R\n",
    "seeds <- 21:30\n",
    "count <- 0\n",
    "Part_erlang<-replicate(10, { count <<- count + 1; sim_ev_by_ev(event_type = \"erlang\", \n",
    "                                                         lambda = 1, nr_erlang = 10,\n",
    "                                                         return_val = \"simple\",\n",
    "                                                         seed = seeds[count])})\n",
    "mean_conf_int(Part_erlang)"
   ]
  },
  {
   "cell_type": "markdown",
   "metadata": {},
   "source": [
    "In this case the fraction of blocked customer is around half the one modelled as poisson process, and the confidence interval is really small, around 0.002\n",
    "\n",
    "As this result is a bit surpring it is possible to test for the sample mean of the implemented erlang distribution:"
   ]
  },
  {
   "cell_type": "code",
   "execution_count": 10,
   "metadata": {},
   "outputs": [
    {
     "name": "stdout",
     "output_type": "stream",
     "text": [
      "[1] 0.9987803\n"
     ]
    }
   ],
   "source": [
    "%%R\n",
    "mean(erlang_dist(n=10000,mean_erlang = 1,nr_erlang = 10))"
   ]
  },
  {
   "cell_type": "markdown",
   "metadata": {},
   "source": [
    "And this result show that in the long run the implementation of the distribution should be exact.\n",
    "\n",
    "Let's try to find a result close to the Poisson process, setting $m$ to 2:"
   ]
  },
  {
   "cell_type": "code",
   "execution_count": 11,
   "metadata": {},
   "outputs": [
    {
     "name": "stdout",
     "output_type": "stream",
     "text": [
      "$mean\n",
      "[1] 0.09086\n",
      "\n",
      "$`lower bound`\n",
      "[1] 0.08733797\n",
      "\n",
      "$`upper bound`\n",
      "[1] 0.09438203\n",
      "\n"
     ]
    }
   ],
   "source": [
    "%%R\n",
    "seeds <- 21:30\n",
    "count <- 0\n",
    "Part_erlang<-replicate(10, { count <<- count + 1; sim_ev_by_ev(event_type = \"erlang\", \n",
    "                                                         lambda = 1, nr_erlang = 2,\n",
    "                                                         return_val = \"simple\",\n",
    "                                                         seed = seeds[count])})\n",
    "mean_conf_int(Part_erlang)"
   ]
  },
  {
   "cell_type": "markdown",
   "metadata": {},
   "source": [
    "As possible to see this result is closer to the poisson process, in fact with $m=1$ the result is \"identical\", also the confidence interval is larger than before, around 0.06; So the value of $m$ is a important factor.\n",
    "\n",
    "### Hyper exponential inter arrival times,\n",
    "\n",
    "The parameters for the hyper exponential distribution should be $p_{1}=0.8, \\lambda_{1}=0.8333, p_{2}=0.2, \\lambda_{2}=5.0$\n",
    "\n",
    "Let's proceed with the simulation:"
   ]
  },
  {
   "cell_type": "code",
   "execution_count": 12,
   "metadata": {},
   "outputs": [
    {
     "name": "stdout",
     "output_type": "stream",
     "text": [
      "$mean\n",
      "[1] 0.14197\n",
      "\n",
      "$`lower bound`\n",
      "[1] 0.1370109\n",
      "\n",
      "$`upper bound`\n",
      "[1] 0.1469291\n",
      "\n"
     ]
    }
   ],
   "source": [
    "%%R\n",
    "seeds <- 31:40\n",
    "count <- 0\n",
    "Part_hyper<-replicate(10, { count <<- count + 1; sim_ev_by_ev(event_type = \"hyper\", \n",
    "                                                         lambda = 0.8333, lambda2 = 5.0,\n",
    "                                                         p1 = 0.8, p2 = 0.2,\n",
    "                                                         return_val = \"simple\",\n",
    "                                                         seed = seeds[count])})\n",
    "mean_conf_int(Part_hyper)"
   ]
  },
  {
   "cell_type": "markdown",
   "metadata": {},
   "source": [
    "The result is slighlty larger than the poisson process, in fact in the long run the mean of this hyperexponential function with given parameter should be:"
   ]
  },
  {
   "cell_type": "code",
   "execution_count": 13,
   "metadata": {},
   "outputs": [
    {
     "name": "stdout",
     "output_type": "stream",
     "text": [
      "[1] 1.000038\n"
     ]
    }
   ],
   "source": [
    "%%R\n",
    "(0.8/0.8333)+(0.2/5.0)"
   ]
  },
  {
   "cell_type": "markdown",
   "metadata": {},
   "source": [
    "So the afflux of customers is in average \"equal\" yo the poisson process and so it expected the result to be in a similar range;\n",
    "\n",
    "The confidence interval is slightly larger than the simple poisson process.\n",
    "\n",
    "\n",
    "### The arrival process is a Poisson process, experiment with different service time distributions with the same mean service time and $m$.\n",
    "\n",
    "Again all the simulation will be performed in the same fashion as before.\n",
    "\n",
    "#### Constant service time\n",
    "\n",
    "As understandable this is not an appropriate distribution, but it can be a good _\"benchmark\"_ to test the different distribution proposed(for both service time and arrival time)"
   ]
  },
  {
   "cell_type": "code",
   "execution_count": 14,
   "metadata": {},
   "outputs": [
    {
     "name": "stdout",
     "output_type": "stream",
     "text": [
      "$mean\n",
      "[1] 0.12366\n",
      "\n",
      "$`lower bound`\n",
      "[1] 0.1211223\n",
      "\n",
      "$`upper bound`\n",
      "[1] 0.1261977\n",
      "\n"
     ]
    }
   ],
   "source": [
    "%%R\n",
    "seeds <- 41:50\n",
    "count <- 0\n",
    "Part_const<-replicate(10, { count <<- count + 1; sim_ev_by_ev(service = \"const\",\n",
    "                                                         return_val = \"simple\",\n",
    "                                                         seed = seeds[count])})\n",
    "mean_conf_int(Part_const)"
   ]
  },
  {
   "cell_type": "markdown",
   "metadata": {},
   "source": [
    "As expected this is result is similar to the theoretical one.\n",
    "\n",
    "\n",
    "#### Pareto distributed service times with at least $k=1.05$ and $k=2.05$\n",
    "\n",
    "In the function the Pareto distribution is implemented as follows:\n",
    "$$\n",
    "X=\\beta\\left(1-U\\right)^{-\\frac{1}{k}}\n",
    "$$\n",
    "with $\\beta$ that is the \"mean\", in this case the mean service time. Recall also that the expected value of the mean depend on the value of $k$:\n",
    "$$\n",
    "E(X)=\\frac{k}{k-1} \\beta\n",
    "$$\n",
    "So $\\beta$ should be choose appropriately to obtain $E(X)=s=8$. First plot the Pareto Distributed Random Variables:"
   ]
  },
  {
   "cell_type": "code",
   "execution_count": 15,
   "metadata": {},
   "outputs": [],
   "source": [
    "%%R\n",
    "set.seed(42)\n",
    "k1<-1.05; k2<-2.05\n",
    "beta1<-((k1-1)*s)/k1\n",
    "beta2<-((k2-1)*s)/k2\n",
    "U<-runif(10000)\n",
    "X1 <- beta1*(1-U)^(-1/k1)\n",
    "X2 <- beta2*(1-U)^(-1/k2)\n",
    "df<-data.frame(\"values\"=c(X1,X2),\"factor\"=c(rep(k1,length(X1)),rep(k2,length(X2))))"
   ]
  },
  {
   "cell_type": "markdown",
   "metadata": {},
   "source": [
    "As stated before the sample mean is largely different for the 2 samples, with $k=2.05$ the result however is closer to the mean $s=8$, with $k=1.05$ there is a larger variability on the results of the mean."
   ]
  },
  {
   "cell_type": "code",
   "execution_count": 16,
   "metadata": {},
   "outputs": [
    {
     "data": {
      "image/png": "[encoded data removed]"
     },
     "metadata": {},
     "output_type": "display_data"
    }
   ],
   "source": [
    "%%R\n",
    "df%>%ggplot()+\n",
    "  geom_density(aes(x=values),fill=\"white\", color=\"black\")+\n",
    "  ggtitle(\"Histograms of the Pareto Distributed Random Variables\")+\n",
    "  facet_wrap(vars(factor), scales=\"free\")"
   ]
  },
  {
   "cell_type": "markdown",
   "metadata": {},
   "source": [
    "The plot dont give much information, but it is possible to see that the variability of the values decrease as $k$ increase.\n",
    "\n",
    "Now simulate the system with $k=1.05$:"
   ]
  },
  {
   "cell_type": "code",
   "execution_count": 17,
   "metadata": {},
   "outputs": [
    {
     "name": "stdout",
     "output_type": "stream",
     "text": [
      "$mean\n",
      "[1] 0.00126\n",
      "\n",
      "$`lower bound`\n",
      "[1] -6.85881e-05\n",
      "\n",
      "$`upper bound`\n",
      "[1] 0.002588588\n",
      "\n"
     ]
    }
   ],
   "source": [
    "%%R\n",
    "seeds <- 51:60\n",
    "count <- 0\n",
    "Part_pareto1<-replicate(10, { count <<- count + 1; sim_ev_by_ev(service = \"pareto\",\n",
    "                                                              par2 = k1, mean=beta1,\n",
    "                                                              return_val = \"simple\",\n",
    "                                                              seed = seeds[count])})\n",
    "mean_conf_int(Part_pareto1)"
   ]
  },
  {
   "cell_type": "markdown",
   "metadata": {},
   "source": [
    "Now the run with $k=2.05$ will be performed using the same seeds:"
   ]
  },
  {
   "cell_type": "code",
   "execution_count": 18,
   "metadata": {},
   "outputs": [
    {
     "name": "stdout",
     "output_type": "stream",
     "text": [
      "$mean\n",
      "[1] 0.12005\n",
      "\n",
      "$`lower bound`\n",
      "[1] 0.1149912\n",
      "\n",
      "$`upper bound`\n",
      "[1] 0.1251088\n",
      "\n"
     ]
    }
   ],
   "source": [
    "%%R\n",
    "seeds <- 51:60\n",
    "count <- 0\n",
    "Part_pareto2<-replicate(10, { count <<- count + 1; sim_ev_by_ev(service = \"pareto\",\n",
    "                                                              par2 = k2, mean=beta2,\n",
    "                                                              return_val = \"simple\",\n",
    "                                                              seed = seeds[count])})\n",
    "mean_conf_int(Part_pareto2)"
   ]
  },
  {
   "cell_type": "markdown",
   "metadata": {},
   "source": [
    "As considered when presenting this distribution the results are as expected: with $k=2.05$ the result is less than the previous with constant time of 0.12366, this last value is in the confidence interval of the pareto simulation.\n",
    "\n",
    "For the runs with $k=1.05$ there is not much to say that the result is irrealistically if the service time mean $s$ is set to 8.\n",
    "\n",
    "#### Normally distributed service times\n",
    "\n",
    "For this will be used only a normal distribution, with different values of the standard deviation: 1,4,8;\n",
    "\n",
    "Obviously it is expected a large variability of the simulation, again the same seeds will be used to compare the results and see if the confidence interval will be larger in absolute term, only in relative ones or similar:"
   ]
  },
  {
   "cell_type": "code",
   "execution_count": 19,
   "metadata": {},
   "outputs": [],
   "source": [
    "%%R\n",
    "seeds <- 61:70\n",
    "count <- 0\n",
    "Part_norm1<-replicate(10, { count <<- count + 1; sim_ev_by_ev(service = \"norm\",\n",
    "                                                              par2 = 1,\n",
    "                                                              return_val = \"simple\",\n",
    "                                                              seed = seeds[count])})\n",
    "count <- 0\n",
    "Part_norm2<-replicate(10, { count <<- count + 1; sim_ev_by_ev(service = \"norm\",\n",
    "                                                              par2 = 4,\n",
    "                                                              return_val = \"simple\",\n",
    "                                                              seed = seeds[count])})\n",
    "count <- 0\n",
    "Part_norm3<-replicate(10, { count <<- count + 1; sim_ev_by_ev(service = \"norm\",\n",
    "                                                              par2 = 8,\n",
    "                                                              return_val = \"simple\",\n",
    "                                                              seed = seeds[count])})"
   ]
  },
  {
   "cell_type": "markdown",
   "metadata": {},
   "source": [
    "Now the print of the results:"
   ]
  },
  {
   "cell_type": "code",
   "execution_count": 20,
   "metadata": {},
   "outputs": [
    {
     "name": "stdout",
     "output_type": "stream",
     "text": [
      "\n",
      "\n",
      "Standard deviation equal to 1:\n",
      "\n",
      "$mean\n",
      "[1] 0.12198\n",
      "\n",
      "$`lower bound`\n",
      "[1] 0.1200291\n",
      "\n",
      "$`upper bound`\n",
      "[1] 0.1239309\n",
      "\n"
     ]
    }
   ],
   "source": [
    "%%R\n",
    "cat(\"\",\"\",\"Standard deviation equal to 1:\",\"\",sep=\"\\n\")\n",
    "mean_conf_int(Part_norm1)"
   ]
  },
  {
   "cell_type": "code",
   "execution_count": 21,
   "metadata": {},
   "outputs": [
    {
     "name": "stdout",
     "output_type": "stream",
     "text": [
      "\n",
      "\n",
      "Standard deviation equal to 4:\n",
      "\n",
      "$mean\n",
      "[1] 0.12265\n",
      "\n",
      "$`lower bound`\n",
      "[1] 0.120387\n",
      "\n",
      "$`upper bound`\n",
      "[1] 0.124913\n",
      "\n"
     ]
    }
   ],
   "source": [
    "%%R\n",
    "cat(\"\",\"\",\"Standard deviation equal to 4:\",\"\",sep=\"\\n\")\n",
    "mean_conf_int(Part_norm2)"
   ]
  },
  {
   "cell_type": "code",
   "execution_count": 22,
   "metadata": {},
   "outputs": [
    {
     "name": "stdout",
     "output_type": "stream",
     "text": [
      "\n",
      "\n",
      "Standard deviation equal to 8:\n",
      "\n",
      "$mean\n",
      "[1] 0.15191\n",
      "\n",
      "$`lower bound`\n",
      "[1] 0.1498944\n",
      "\n",
      "$`upper bound`\n",
      "[1] 0.1539256\n",
      "\n"
     ]
    }
   ],
   "source": [
    "%%R\n",
    "cat(\"\",\"\",\"Standard deviation equal to 8:\",\"\",sep=\"\\n\")\n",
    "mean_conf_int(Part_norm3)"
   ]
  },
  {
   "cell_type": "markdown",
   "metadata": {},
   "source": [
    "Considering that the normal distribution have the same mean, the result with a large standard deviation is incredibly different from the previous two, instead the confidence interval is equal for all the different standard deviations."
   ]
  },
  {
   "cell_type": "markdown",
   "metadata": {},
   "source": [
    "## Simulated Annealing and Travelling Salesman problem\n",
    "\n",
    "Simulated Annealing for the travelling salesman is implemented with a permutation of two random stations on the rout; As cooling scheme, $T_{k}=1 / \\sqrt{1+k}$ and $T_{k}=1\\log (k+1)$ are used. \n",
    "\n",
    "The route ends where it started and the path is randomly initialized.\n",
    "\n",
    "\n",
    "\n",
    "###  Have input be positions in the plane of the $n$ stations. Let the cost of going $i \\mapsto j$ be the Euclidian distance between station $i$ and $j$. Plot the resulting route in the plane. Debug with stations on a circle.\n",
    "\n",
    "Let's create the input as x-y coordinate on a circle and also random position normally distributed:"
   ]
  },
  {
   "cell_type": "code",
   "execution_count": 23,
   "metadata": {},
   "outputs": [],
   "source": [
    "%%R\n",
    "circle<-function(cx,cy,r,u){\n",
    "  x = cx + r * cos(pi*u)\n",
    "  y = cy + r * sin(pi*u)\n",
    "  return(c(x,y))\n",
    "}\n",
    "m<-20\n",
    "cities_circle<-as.data.frame(t(replicate(m,circle(0,0,20,runif(1,0,2)))))\n",
    "colnames(cities_circle)<-c(\"x\",\"y\")\n",
    "cities_rand<-data.frame(x=rnorm(m,15,10),y=rnorm(m,15,8))"
   ]
  },
  {
   "cell_type": "markdown",
   "metadata": {},
   "source": [
    "Visualize the city position randomly generated."
   ]
  },
  {
   "cell_type": "code",
   "execution_count": 24,
   "metadata": {},
   "outputs": [
    {
     "data": {
      "image/png": "[encoded data removed]"
     },
     "metadata": {},
     "output_type": "display_data"
    }
   ],
   "source": [
    "%%R\n",
    "cities_rand%>%\n",
    "  add_row(cities_rand[1,])%>%\n",
    "  mutate(initial_pos=factor(c(seq(1,m),1)))%>%\n",
    "  ggplot(aes(x,y, label = initial_pos))+\n",
    "  geom_point(size=3,shape=1)+\n",
    "  geom_text_repel()+\n",
    "  labs(title = \"Positions of cities randomly generated from a normal distribution\",\n",
    "       subtitle = \"Mean 15 and standard deviation 10\")"
   ]
  },
  {
   "cell_type": "markdown",
   "metadata": {},
   "source": [
    "Let's also visualize the cities on the circle:"
   ]
  },
  {
   "cell_type": "code",
   "execution_count": 25,
   "metadata": {},
   "outputs": [
    {
     "data": {
      "image/png": "[encoded data removed]"
     },
     "metadata": {},
     "output_type": "display_data"
    }
   ],
   "source": [
    "%%R\n",
    "  cities_circle%>%\n",
    "  add_row(cities_circle[1,])%>%\n",
    "  mutate(initial_pos=factor(c(seq(1,m),1)))%>%\n",
    "  ggplot(aes(x,y, label = initial_pos))+\n",
    "  geom_point(size=3,shape=1)+\n",
    "  geom_text_repel()+\n",
    "  labs(title = \"Positions of cities randomly generated from a circunference\",\n",
    "       subtitle = \"Center in (0,0) and radius 20\")"
   ]
  },
  {
   "cell_type": "markdown",
   "metadata": {},
   "source": [
    "The function is implemented as follows:"
   ]
  },
  {
   "cell_type": "code",
   "execution_count": 26,
   "metadata": {},
   "outputs": [],
   "source": [
    "%%R\n",
    "eucl_dist<-function(x1,y1,x2,y2){\n",
    "  d<-sqrt(((x1-x2)^2)+((y1-y2)^2))\n",
    "  return(d)\n",
    "}\n",
    "\n",
    "matr_dist<-function(x_vect,y_vect){\n",
    "  n<-length(x_vect)\n",
    "  if(n!=length(y_vect)){\n",
    "    cat(\"Error input\")\n",
    "    return(0)\n",
    "  }\n",
    "  else{\n",
    "    dist_matr<-matrix(0,nrow = n,ncol = n)\n",
    "    for(i in 1:n){\n",
    "      for(j in 1:n){\n",
    "        d<-eucl_dist(x_vect[i],y_vect[i],x_vect[j],y_vect[j])\n",
    "        dist_matr[i,j]=dist_matr[j,i]=d\n",
    "      }\n",
    "    }\n",
    "  }\n",
    "  return(dist_matr)\n",
    "}\n",
    "\n",
    "eval_state<-function(sequence_inp,data){\n",
    "  n<-length(sequence_inp)-1\n",
    "  total_cost<-0\n",
    "  for(i in 1:n){\n",
    "    total_cost<-total_cost + data[sequence_inp[i],sequence_inp[i+1]]\n",
    "  }\n",
    "  return(total_cost)\n",
    "}\n",
    "\n",
    "sim_ann<-function(data_coord,cost_matr,dist=\"coordinate\",cooling_func=\"log\",\n",
    "                  stop_crit=1000, max_iter=10000000){\n",
    "  if(dist==\"coordinate\"){\n",
    "    x<-data_coord[,1]\n",
    "    y<-data_coord[,2]\n",
    "    matr_cost<-matr_dist(x,y)\n",
    "  }\n",
    "  else if(dist==\"matrix\"){matr_cost<-cost_matr}\n",
    "  n<-dim(matr_cost)[1]\n",
    "  if(dim(matr_cost)[2]!=n){\n",
    "    cat(\"Error input\")\n",
    "    return(0)\n",
    "  }\n",
    "  if(cooling_func==\"log\"){\n",
    "    cost<-function(k){return(1/log(1+k))}\n",
    "  }\n",
    "  else if(cooling_func==\"sqrt\"){\n",
    "    cost<-function(k){return(1/sqrt(1+k))}\n",
    "  }\n",
    "  init_path<-c(1,sample(c(2:n),size = n-1),1)\n",
    "  new_path=old_path=init_path\n",
    "  stop_iter<-0\n",
    "  nr_iter<-1\n",
    "  while(stop_iter<stop_crit & nr_iter<max_iter){\n",
    "    old_value<-eval_state(old_path,matr_cost)\n",
    "    # permutation + value\n",
    "    swap<-sample(c(2:n),size = 2)\n",
    "    new_path[swap[2]]<-old_path[swap[1]]\n",
    "    new_path[swap[1]]<-old_path[swap[2]]\n",
    "    new_value<-eval_state(new_path,matr_cost)\n",
    "    if(new_value<old_value){\n",
    "      old_path<-new_path\n",
    "      stop_iter<-0\n",
    "    }\n",
    "    else{\n",
    "      prob_succ<-exp(-(new_value-old_value)/cost(nr_iter))\n",
    "      c_toss<-sample(c(0,1),size = 1,prob = c(1-prob_succ,prob_succ))\n",
    "      if(c_toss>0){\n",
    "        old_path<-new_path\n",
    "        stop_iter<-0\n",
    "      }\n",
    "      else{\n",
    "        new_path<-old_path\n",
    "        stop_iter<-stop_iter+1\n",
    "      }\n",
    "    }\n",
    "    nr_iter<-nr_iter+1\n",
    "  }\n",
    "  if(nr_iter==max_iter){cat(\"Reached maximum number of iterations\",sep = \"\\n\")}\n",
    "  else if(stop_iter==stop_crit){cat(\"Reached stopping criteria\",sep = \"\\n\")}\n",
    "  return(list(\"Path\"=old_path,\n",
    "              \"Final cost\"=eval_state(old_path,matr_cost),\n",
    "              \"Number Iteration\"=nr_iter))\n",
    "}"
   ]
  },
  {
   "cell_type": "markdown",
   "metadata": {},
   "source": [
    "The function take as input both a matrix of distances between stations or a dataframe with x-y coordinate of the different stations, in this last case a matrix of distance (using the Euclidean Distance) is created, so the algorithm always work with a distance matrix (so a _symmetric_ matrix).\n",
    "\n",
    "At every interation a new permutation(swap of 2 stations) is performed and the candidate state $Y$ is accepted if  the cost is less than the previous state or it is accepted with probability $\\exp\\left(-\\left(U\\left(Y_{i}\\right)-U\\left(X_{i}\\right)\\right) / T_{i}\\right)$, where $U()$ evaluate the total distance covered for the specific state(path) and $T_{i}$ can be both $T_{i}=1 / \\sqrt{1+i}$ or $T_{i}=-\\log (i+1)$, where $i$ keeps track of the interaction, in case that the cost is not less.\n",
    "\n",
    "There is a maximum number of iteration and a stop criteria if the candidate is rejected multiple times in a row (500 by default).\n",
    "\n",
    "Let's compute the path for the random generated city and plot the result:"
   ]
  },
  {
   "cell_type": "code",
   "execution_count": 27,
   "metadata": {},
   "outputs": [
    {
     "name": "stdout",
     "output_type": "stream",
     "text": [
      "Reached stopping criteria\n",
      "$Path\n",
      " [1]  1 15 18  5  2 20 11  7  4 17 16  6  8  3 10 14 12  9 13 19  1\n",
      "\n",
      "$`Final cost`\n",
      "[1] 189.7741\n",
      "\n",
      "$`Number Iteration`\n",
      "[1] 4034\n",
      "\n"
     ]
    }
   ],
   "source": [
    "%%R\n",
    "final_path_rand<-sim_ann(cities_rand)\n",
    "final_path_rand"
   ]
  },
  {
   "cell_type": "markdown",
   "metadata": {},
   "source": [
    "The first plot will contain the simple path that goes from station 1 to n sequentially and then return to station 1, the indexes are according to the order of generation, The second plot will be the path computed with the simulation:"
   ]
  },
  {
   "cell_type": "code",
   "execution_count": 28,
   "metadata": {},
   "outputs": [
    {
     "data": {
      "image/png": "[encoded data removed]"
     },
     "metadata": {},
     "output_type": "display_data"
    }
   ],
   "source": [
    "%%R\n",
    "first<-cities_rand%>%\n",
    "  add_row(cities_rand[1,])%>%\n",
    "  mutate(initial_pos=factor(c(seq(1,m),1)))%>%\n",
    "  ggplot(aes(x,y, label = initial_pos))+\n",
    "  geom_point(size=3,shape=1)+\n",
    "  geom_segment(aes(xend=c(tail(x, n=-1), NA), yend=c(tail(y, n=-1), NA)),\n",
    "               arrow=arrow(length=unit(0.3,\"cm\"),type = \"closed\"),alpha=0.6)+\n",
    "  geom_text_repel()+\n",
    "    ggtitle(\"Initial path from generation\")\n",
    "\n",
    "df1<-cities_rand%>%\n",
    "  mutate(initial_pos=factor(seq(1,m)))%>%\n",
    "  mutate(final_pos=factor(final_path_rand$Path[1:m]))%>%\n",
    "  arrange(final_pos)\n",
    "\n",
    "\n",
    "second<-df1%>%\n",
    "  add_row(df1[1,])%>%\n",
    "  ggplot(aes(x,y, label = initial_pos))+\n",
    "  geom_point(size=3,shape=1)+\n",
    "  geom_segment(aes(xend=c(tail(x, n=-1), NA), yend=c(tail(y, n=-1), NA)),\n",
    "               arrow=arrow(length=unit(0.3,\"cm\"),type = \"closed\"),alpha=0.6)+\n",
    "  geom_text_repel()+\n",
    "  ggtitle(\"Final path from simulation\")\n",
    "\n",
    "multiplot(first,second,cols = 2)"
   ]
  },
  {
   "cell_type": "markdown",
   "metadata": {},
   "source": [
    "Finally the same for the cities in a circumference:"
   ]
  },
  {
   "cell_type": "code",
   "execution_count": 29,
   "metadata": {},
   "outputs": [
    {
     "name": "stdout",
     "output_type": "stream",
     "text": [
      "Reached stopping criteria\n",
      "$Path\n",
      " [1]  1  8 14 20 16  6  9  4 18 17 15 11 10 12  7 13  2  5  3 19  1\n",
      "\n",
      "$`Final cost`\n",
      "[1] 273.8124\n",
      "\n",
      "$`Number Iteration`\n",
      "[1] 1233\n",
      "\n"
     ]
    }
   ],
   "source": [
    "%%R\n",
    "final_path_circle<-sim_ann(cities_circle)\n",
    "final_path_circle"
   ]
  },
  {
   "cell_type": "markdown",
   "metadata": {},
   "source": [
    "And now the plots also for this:\n",
    "\n",
    "\n",
    "It is also possible to experiment with the cooling function as $1 / \\sqrt{1+i}$:"
   ]
  },
  {
   "cell_type": "code",
   "execution_count": 30,
   "metadata": {},
   "outputs": [
    {
     "name": "stdout",
     "output_type": "stream",
     "text": [
      "Reached stopping criteria\n",
      "$Path\n",
      " [1]  1 19 12 10 11 16 20 14  4 18 15 17  8  7 13  2  5  3  6  9  1\n",
      "\n",
      "$`Final cost`\n",
      "[1] 239.4038\n",
      "\n",
      "$`Number Iteration`\n",
      "[1] 2141\n",
      "\n"
     ]
    }
   ],
   "source": [
    "%%R\n",
    "sim_ann(cities_circle,cooling_func = \"sqrt\")"
   ]
  },
  {
   "cell_type": "markdown",
   "metadata": {},
   "source": [
    "\n",
    "## Variance Reduction Method\n",
    "\n",
    "The goal in this exercise is to use different technique that are used to reduce the variance of the estimator for simulated process.\n",
    "\n",
    "This techniques exploit the relationship of the generated distribution in order to assure the aforementioned varianve reduction.\n",
    "\n",
    "First, some definitions: the _Expected Value_ of a Random Variable is\n",
    "$$\n",
    "\\operatorname{E}\\left(g(x)\\right) =\\int g(x)f(x)dx\n",
    "$$\n",
    "Now taking in consideration the integral $\\int_{0}^{1} e^{x} d x=\\int_{0}^{1} e^{x} \\cdot 1 \\cdot dx$, with $\\int_{0}^{1} 1 dx$  as the integral of the Uniform Distribution $U$.\n",
    "\n",
    "Combining the two:\n",
    "$$\n",
    "\\int_{0}^{x} e^{x}dx=E\\left(e^{U}\\right)\n",
    "$$\n",
    "\n",
    "So, it is possible to evaluate an integral computing the expected value.\n",
    "\n",
    "There is a built-in function, let's see it result first:"
   ]
  },
  {
   "cell_type": "code",
   "execution_count": 31,
   "metadata": {},
   "outputs": [
    {
     "name": "stdout",
     "output_type": "stream",
     "text": [
      "1.718282 with absolute error < 1.9e-14\n"
     ]
    }
   ],
   "source": [
    "%%R\n",
    "eval_int<-function(x){exp(x)}\n",
    "integrate(eval_int,0,1)"
   ]
  },
  {
   "cell_type": "markdown",
   "metadata": {},
   "source": [
    "As expected the variance is extremly low and the result is precisily the analytical one:\n",
    "\n",
    "$$\n",
    "\\begin{aligned}\n",
    "\\int_{0}^{1} e^{x}dx&=e^1-e^0\\\\\n",
    "&=2.7182818284-1\\\\\n",
    "&=1.7182818284\\\\\n",
    "\\end{aligned}\n",
    "$$\n",
    "\n",
    "### Estimation of the integral $\\int_{0}^{1} e^{x} d x$ by simulation (the crude Monte Carlo estimator). Use eg. an estimator based on 100 samples and present the result as the point estimator and a confidence interval.\n",
    "\n",
    "The _crude Monte Carlo estimator_ can be used to evaluate the integral and is in the following form:\n",
    "\n",
    "$$\n",
    "X_{i}=e^{U_{i}} \\qquad \\bar{X}=\\frac{\\sum_{i=1}^{n} X_{i}}{n}\n",
    "$$\n",
    "In other words the integral is evaluated sampling the random variable $e^{U}$ and then computing the average."
   ]
  },
  {
   "cell_type": "code",
   "execution_count": 32,
   "metadata": {},
   "outputs": [
    {
     "name": "stdout",
     "output_type": "stream",
     "text": [
      "$Evaluation\n",
      "[1] 1.70004\n",
      "\n",
      "$Variance\n",
      "[1] 0.2437494\n",
      "\n"
     ]
    }
   ],
   "source": [
    "%%R\n",
    "eval_crude_MT<-function(n){\n",
    "  u<-runif(n)\n",
    "  res<-exp(u)\n",
    "  return(list(\"Evaluation\"=mean(res),\"Variance\"=var(res)))\n",
    "}\n",
    "\n",
    "crude_MT<-eval_crude_MT(1000)\n",
    "crude_MT"
   ]
  },
  {
   "cell_type": "markdown",
   "metadata": {},
   "source": [
    "The variance of the estimator is large and the result is possibly quite distant from the analytical result (it depends on the random run as the seed is not setted), the variance should be $\\sim 0.25$.\n",
    "\n",
    "###  Estimation of the integral $\\int_{0}^{1} e^{x} d x$ using antithetic variables, with comparable computer resources.\n",
    "\n",
    "This is the a variance reduction technique that exploit the use of _Antithetic Variables_:\n",
    "\n",
    "Considering a generated sequence of pseudo-number $X$, that is a function of $k$ random numbers:\n",
    "$$\n",
    "X=h\\left(U_{1}, U_{2}, \\ldots, U_{k}\\right)\n",
    "$$\n",
    "\n",
    "Where $U=U_{1}, \\ldots, U_{k}$ is uniformly distributed on $(0,1)$; \n",
    "\n",
    "$1-U$ is uniformly distributed on $(0,1)$ and negatively correlated with $U$, so a generated sequence $Y$:\n",
    "$$\n",
    "Y=h\\left(1-U_{1}, 1-U_{2}, \\ldots, 1-U_{k}\\right)\n",
    "$$\n",
    "should have the same distribution as $X$ and also is negatively correlated with $X$ if $h$ is a _monotone_ function(as $e^x$).\n",
    "\n",
    "Suppose the two distribution are compounded in a new random variable $Z=\\frac{X+Y}{2}$, then the variance of $Z$ present a term of $2\\operatorname{Cov}(X,Y)$, if this value is negative, then the variance is reduced.\n",
    "\n",
    "The implementation to estimate the integral is:"
   ]
  },
  {
   "cell_type": "code",
   "execution_count": 33,
   "metadata": {},
   "outputs": [
    {
     "name": "stdout",
     "output_type": "stream",
     "text": [
      "$Evaluation\n",
      "[1] 1.717366\n",
      "\n",
      "$Variance\n",
      "[1] 0.003638769\n",
      "\n"
     ]
    }
   ],
   "source": [
    "%%R\n",
    "eval_ant_var<-function(n){\n",
    "  u<-runif(n)\n",
    "  res<-0.5*(exp(u)+exp(1-u))\n",
    "  return(list(\"Evaluation\"=mean(res),\"Variance\"=var(res)))\n",
    "}\n",
    "\n",
    "ant_var<-eval_ant_var(500)\n",
    "ant_var"
   ]
  },
  {
   "cell_type": "markdown",
   "metadata": {},
   "source": [
    "The choiche of $n=500$ is to use a total of 1000 samples as in the _crude Monte Carlo_ estimation.\n",
    "\n",
    "The _relative_ variance reduction is:"
   ]
  },
  {
   "cell_type": "code",
   "execution_count": 34,
   "metadata": {},
   "outputs": [
    {
     "name": "stdout",
     "output_type": "stream",
     "text": [
      "[1] 0.9850717\n"
     ]
    }
   ],
   "source": [
    "%%R\n",
    "1-(ant_var$Variance/crude_MT$Variance)"
   ]
  },
  {
   "cell_type": "markdown",
   "metadata": {},
   "source": [
    "###  Estimation of the integral $\\int_{0}^{1} e^{x} d x$ using a control variable, with comparable computer resources.\n",
    "\n",
    "Suppose that:\n",
    "\n",
    "- $E[X]$ is the estimator, where $X$ is the output of a simulation\n",
    "- $Y$ is an output variable and its expected value is known $E[Y]=\\mu_{y}$\n",
    "\n",
    "For any constant $c$ the quantity\n",
    "$$\n",
    "X+c\\left(Y-\\mu_{y}\\right)\n",
    "$$\n",
    "is an unbiased estimator of $E[X]$.\n",
    "\n",
    "The constant $c$ can be choose to minimize the Variance setting:\n",
    "$$\n",
    "c=-\\frac{\\operatorname{Cov}(X, Y)}{\\operatorname{Var}(Y)}\n",
    "$$\n",
    "where the constant $c$ has opposite sign with respect to the covariance.\n",
    "\n",
    "If quantities $\\operatorname{Cov}(X, Y)$ and $\\operatorname{Var}(Y)$ are not known, the sample estimate can be used.\n",
    "\n",
    "$Y$ in this case is called _control variate_ for the simulation estimator $X$.\n",
    "\n",
    "For the integral evaluation the _control variate_ can be directly $U$ with know mean $\\mu_{U}=\\frac{1}{2}$, and the implementation is:"
   ]
  },
  {
   "cell_type": "code",
   "execution_count": 35,
   "metadata": {},
   "outputs": [
    {
     "name": "stdout",
     "output_type": "stream",
     "text": [
      "$Evaluation\n",
      "[1] 1.714622\n",
      "\n",
      "$Variance\n",
      "[1] 0.003849372\n",
      "\n"
     ]
    }
   ],
   "source": [
    "%%R\n",
    "eval_contr_var<-function(n){\n",
    "  u<-runif(n)\n",
    "  c<- -(cov(exp(u),u))/var(u)\n",
    "  res<-exp(u)+c*(u-0.5)\n",
    "  return(list(\"Evaluation\"=mean(res),\"Variance\"=var(res)))\n",
    "}\n",
    "\n",
    "contr_var<-eval_contr_var(500)\n",
    "contr_var"
   ]
  },
  {
   "cell_type": "markdown",
   "metadata": {},
   "source": [
    "The _relative_ variance reduction is:"
   ]
  },
  {
   "cell_type": "code",
   "execution_count": 36,
   "metadata": {},
   "outputs": [
    {
     "name": "stdout",
     "output_type": "stream",
     "text": [
      "[1] 0.9842077\n"
     ]
    }
   ],
   "source": [
    "%%R\n",
    "1-(contr_var$Variance/crude_MT$Variance)"
   ]
  },
  {
   "cell_type": "markdown",
   "metadata": {},
   "source": [
    "###  Estimation of the integral $\\int_{0}^{1} e^{x} d x$ using stratified sampling, with comparable computer ressources.\n",
    "\n",
    "This variance reduction technique called _stratified sampling_, as the name suggest utilize a resampling technique, and the result is that the variance is reduced because conditioned to the probability distribution of the _strata_(intervals) of the \"original\" estimator.\n",
    "\n",
    "The function is created specifically to evaluate the proposed integral, following the formulation for $k=10$:\n",
    "$$\n",
    "W_{i}=\\frac{e^{\\frac{U_{i, 1}}{k}}+e^{\\frac{1}{k}+\\frac{U_{i, 2}}{k}}+\\cdots+e^{\\frac{9}{k}+\\frac{U_{i, k}}{k}}}{k}\n",
    "$$\n",
    "In this case the probability distribution is uniform and constant over the intervals with a value $1/k$\n",
    "\n",
    "The function iimplemented is as follows:"
   ]
  },
  {
   "cell_type": "code",
   "execution_count": 37,
   "metadata": {},
   "outputs": [
    {
     "name": "stdout",
     "output_type": "stream",
     "text": [
      "$Evaluation\n",
      "[1] 1.718028\n",
      "\n",
      "$Variance\n",
      "[1] 0.0001420605\n",
      "\n"
     ]
    }
   ],
   "source": [
    "%%R\n",
    "eval_straf_sampl<-function(n,k){\n",
    "  if(n%%k!=0){\n",
    "    return(\"Error choiche parameters\")\n",
    "  }\n",
    "  else{\n",
    "    size<-floor(n/k)\n",
    "    res<-rep(0,size)\n",
    "    for (i in 1:size){\n",
    "      inter_res<-rep(0,k)\n",
    "      for (j in 1:k){\n",
    "        inter_res[j]<-((j-1)/k)+runif(1)/k\n",
    "      }\n",
    "      res[i]<-sum(exp(inter_res))/k\n",
    "    }\n",
    "  }\n",
    "  return(list(\"Evaluation\"=mean(res),\"Variance\"=var(res)))\n",
    "}\n",
    "\n",
    "\n",
    "straf_sampl<-eval_straf_sampl(100,10)\n",
    "straf_sampl"
   ]
  },
  {
   "cell_type": "markdown",
   "metadata": {},
   "source": [
    "This is the smallest variance registered for all the variance reduction techniques.\n",
    "\n",
    "It can be interesting evaluate again using a single interval:"
   ]
  },
  {
   "cell_type": "code",
   "execution_count": 38,
   "metadata": {},
   "outputs": [
    {
     "name": "stdout",
     "output_type": "stream",
     "text": [
      "$Evaluation\n",
      "[1] 1.70573\n",
      "\n",
      "$Variance\n",
      "[1] 0.2655955\n",
      "\n"
     ]
    }
   ],
   "source": [
    "%%R\n",
    "eval_straf_sampl(100,1)"
   ]
  },
  {
   "cell_type": "markdown",
   "metadata": {},
   "source": [
    "The result is equal to the _crude Monte Carlo estimator_\n",
    "\n",
    "The _relative_ variance reduction for $k=10$ is:"
   ]
  },
  {
   "cell_type": "code",
   "execution_count": 39,
   "metadata": {},
   "outputs": [
    {
     "name": "stdout",
     "output_type": "stream",
     "text": [
      "[1] 0.9994172\n"
     ]
    }
   ],
   "source": [
    "%%R\n",
    "1-(straf_sampl$Variance/crude_MT$Variance)"
   ]
  },
  {
   "cell_type": "markdown",
   "metadata": {},
   "source": [
    "This is a very good result."
   ]
  },
  {
   "cell_type": "markdown",
   "metadata": {},
   "source": [
    "### Using of control variates to reduce the variance of the estimator dor the Discrete Event Simulation woth Poisson arrivals\n",
    "\n",
    "Considering that both _arrival time_ and _service time_ are output of a simulation both with known mean, it should be possible to utilize one of them as control variate to reduce the variance of the estimator of the blocking fraction of customers;\n",
    "\n",
    "Recall that the variance of an eponential distribution is:\n",
    "$$\n",
    "\\operatorname{Var}(X_{exp})=\\frac{1}{\\lambda^{2}}\n",
    "$$\n",
    "the estimated variance for the _arrival time_ should be $\\sim 1$:"
   ]
  },
  {
   "cell_type": "code",
   "execution_count": 40,
   "metadata": {},
   "outputs": [
    {
     "name": "stdout",
     "output_type": "stream",
     "text": [
      "[1] 0.957109\n"
     ]
    }
   ],
   "source": [
    "%%R\n",
    "var(rexp(10000,1))"
   ]
  },
  {
   "cell_type": "markdown",
   "metadata": {},
   "source": [
    "instead the estimated variance for the _service time_ should be $\\sim 64$"
   ]
  },
  {
   "cell_type": "code",
   "execution_count": 41,
   "metadata": {},
   "outputs": [
    {
     "name": "stdout",
     "output_type": "stream",
     "text": [
      "[1] 62.04988\n"
     ]
    }
   ],
   "source": [
    "%%R\n",
    "var(rexp(10000,1/8))"
   ]
  },
  {
   "cell_type": "markdown",
   "metadata": {},
   "source": [
    "So the _service time_ will be the _control variate_.\n",
    "\n",
    "Considering the previous notation $X$ is the _fraction of blocked customer_ and $Y$ is the _service time_:\n",
    "$$\n",
    "\\begin{aligned}\n",
    "Z&=X+c\\left(Y-\\mu_{y}\\right)\\\\\n",
    "c&=-\\frac{\\operatorname{Cov}(X, Y)}{\\operatorname{Var}(Y)}\n",
    "\\end{aligned}\n",
    "$$\n",
    "Let's partially rewrite the simulation function:"
   ]
  },
  {
   "cell_type": "code",
   "execution_count": 42,
   "metadata": {},
   "outputs": [],
   "source": [
    "%%R\n",
    "sim_ev_by_ev_contr_var<-function(n=10000,lambda=1, mean=8,nr_units=10,seed=NULL){\n",
    "  set.seed(seed)\n",
    "  t_arrival<-rexp(n,lambda)\n",
    "  t_service<-rexp(n,rate = 1/mean)\n",
    "  event_list<-cumsum(t_arrival)\n",
    "  t_free<-rep(0,nr_units)\n",
    "  nr_served<-rep(0,nr_units)\n",
    "  nr_rejected<-rep(0,nr_units)\n",
    "  \n",
    "  for (i in 1:length(event_list)){\n",
    "    nr_free<-sum(event_list[i]>t_free)\n",
    "    \n",
    "    if(nr_free>0){\n",
    "      ind<-which(event_list[i]>t_free)[sample(1:length(which(event_list[i]>t_free)),1)]\n",
    "      t_free[ind]<-event_list[i]+t_service[i]\n",
    "      nr_served[ind]<- nr_served[ind]+1\n",
    "      nr_rejected[i]<-0\n",
    "    }\n",
    "    \n",
    "    else{\n",
    "      nr_rejected[i]<-1\n",
    "    }\n",
    "  }\n",
    "    return(c(sum(nr_rejected)/n,mean(t_service)))\n",
    "}"
   ]
  },
  {
   "cell_type": "markdown",
   "metadata": {},
   "source": [
    "The function return two estimates, the _blocking fraction_ and the mean of the _service time_\n",
    "\n",
    "Now a matrix whose rows are the output of 10 runs and the columns are _blocking fraction_ and _service time_"
   ]
  },
  {
   "cell_type": "code",
   "execution_count": 43,
   "metadata": {},
   "outputs": [],
   "source": [
    "%%R\n",
    "s<-8\n",
    "x<-matrix(replicate(10,sim_ev_by_ev_contr_var()),ncol=2,byrow = TRUE)\n",
    "c<- - cov(x[,1],x[,2])/var(x[,2])\n",
    "y<-x[,1]+c*(x[,2]-s)"
   ]
  },
  {
   "cell_type": "code",
   "execution_count": 44,
   "metadata": {},
   "outputs": [
    {
     "name": "stdout",
     "output_type": "stream",
     "text": [
      "The Mean values for the estimator WITHOUT using the control variate is:\n",
      "[1] 0.12521\n"
     ]
    }
   ],
   "source": [
    "%%R\n",
    "cat(\"The Mean values for the estimator WITHOUT using the control variate is:\",\n",
    "    sep = \"\\n\")\n",
    "apply(x,2,mean)[1]"
   ]
  },
  {
   "cell_type": "code",
   "execution_count": 45,
   "metadata": {},
   "outputs": [
    {
     "name": "stdout",
     "output_type": "stream",
     "text": [
      "The Variance for the estimator WITHOUT using the control variate (10 runs) is:\n",
      "[1] 3.332767e-05\n"
     ]
    }
   ],
   "source": [
    "%%R\n",
    "cat(\"The Variance for the estimator WITHOUT using the control variate (10 runs) is:\",\n",
    "    sep = \"\\n\")\n",
    "apply(x,2,var)[1]"
   ]
  },
  {
   "cell_type": "code",
   "execution_count": 46,
   "metadata": {},
   "outputs": [
    {
     "name": "stdout",
     "output_type": "stream",
     "text": [
      "The Mean values for the estimator WITH the use of control variate is:\n",
      "[1] 0.1249741\n"
     ]
    }
   ],
   "source": [
    "%%R\n",
    "cat(\"The Mean values for the estimator WITH the use of control variate is:\",\n",
    "    sep = \"\\n\")\n",
    "mean(y)"
   ]
  },
  {
   "cell_type": "code",
   "execution_count": 47,
   "metadata": {},
   "outputs": [
    {
     "name": "stdout",
     "output_type": "stream",
     "text": [
      "The Variance for the estimator WITH the use of control variate (10 runs) is:\n",
      "[1] 3.31533e-05\n"
     ]
    }
   ],
   "source": [
    "%%R\n",
    "cat(\"The Variance for the estimator WITH the use of control variate (10 runs) is:\",\n",
    "    sep = \"\\n\")\n",
    "var(y)"
   ]
  },
  {
   "cell_type": "markdown",
   "metadata": {},
   "source": [
    "We can see the result printed below(using the functions \"apply()\", \"mean()\" and \"var()\":\n",
    "\n",
    "\n",
    "\n",
    "The variance for the runs with the use of _control variate_ is extremely low $\\sim 0$, but there is not a _significant_ reduction in absolute term, in relative one it should be around a factor of 2(no reproducibile result here).\n",
    "\n",
    "Possibly the reason is that the correlation between the sequence of rejected customer and the _service time_ is not strongly correlated. The same result happens using _arrival time_; considering the literature, this method is well suited for an estimation of the _time delay_, something that is not in our interest.\n",
    "\n",
    "In any case the result is in general term already satisfactory (difficult to improve) and the variance is extremely low."
   ]
  },
  {
   "cell_type": "markdown",
   "metadata": {},
   "source": [
    "### Use of common random numbers for the difference between Poisson arrivals and a renewal process with hyperexponential interarrival times\n",
    "\n",
    "The technique that involves the use of _Common numbers_ can be useful to compare 2 estimators, as in this case the inter-arrival times are generated from the same _common_ uniform distribution;\n",
    "\n",
    "For the _hyperexponential distribution_ will be used the inverse transform method, solving a nonlinear equation, the CDF is:\n",
    "$$\n",
    "F_X(x)=p_1 \\cdot (1- e^{-\\lambda_1 \\ x})+p_2 \\cdot (1- e^{-\\lambda_2 \\ x})+\\cdots+p_m \\cdot (1- e^{-\\lambda_m \\ x})\n",
    "$$\n",
    "In our case with $m=2$:\n",
    "$$\n",
    "F_X(x)=1- (p_1 \\cdot e^{-\\lambda_1 \\ x}+p_2 \\cdot e^{-\\lambda_2 \\ x})\n",
    "$$\n",
    "And setting $F_X=u$:"
   ]
  },
  {
   "cell_type": "code",
   "execution_count": 48,
   "metadata": {},
   "outputs": [],
   "source": [
    "%%R\n",
    "cdf_hyper<-function(x,u,lambda1=0.8333,lambda2=5.0,p1=0.8,p2=0.2){\n",
    "  eq<-(1-p1*exp(-lambda1*x)+p2*exp(-lambda2*x))-u\n",
    "  return(eq)\n",
    "}"
   ]
  },
  {
   "cell_type": "markdown",
   "metadata": {},
   "source": [
    "The implementation of the simulation is as follows:"
   ]
  },
  {
   "cell_type": "code",
   "execution_count": 49,
   "metadata": {},
   "outputs": [],
   "source": [
    "%%R\n",
    "## common number poisson\n",
    "poisson_common_number<-function(unif,lambda){\n",
    "  times<- -log(unif)*(1/lambda)\n",
    "  return(cumsum(times))\n",
    "}\n",
    "\n",
    "\n",
    "## common number hyperexp\n",
    "hyperexp_common_number<-function(unif){\n",
    "  n<-length(unif)\n",
    "  times<-rep(0,n)\n",
    "  for(i in 1:n){t\n",
    "    times[i]<-nleqslv(x = 1, fn = cdf_hyper,u=unif[i])$x\n",
    "  }\n",
    "  return(cumsum(times))\n",
    "}\n",
    "\n",
    "## simulation\n",
    "sim_ev_by_ev_common_number<-function(event_list, t_service=8,nr_units=10){\n",
    "  t_free<-rep(0,nr_units)\n",
    "  nr_served<-rep(0,nr_units)\n",
    "  nr_rejected<-0\n",
    "  for (t_clock in event_list){\n",
    "    nr_free<-sum(t_clock>t_free)\n",
    "    \n",
    "    if(nr_free>0){\n",
    "      ind<-which(t_clock>t_free)[sample(1:length(which(t_clock>t_free)),1)]\n",
    "      t_free[ind]<-t_clock+t_service\n",
    "      nr_served[ind]<- nr_served[ind]+1\n",
    "    }\n",
    "    \n",
    "    else{\n",
    "      nr_rejected<-nr_rejected+1\n",
    "    }\n",
    "  }\n",
    "\n",
    "  return(nr_rejected/(sum(nr_served)+nr_rejected))\n",
    "}"
   ]
  },
  {
   "cell_type": "markdown",
   "metadata": {},
   "source": [
    "It should be noted that to facilitate the comparison the service time is constant with $s=8$.\n",
    "\n",
    "So now it is possible to proceed with the comparison of the 2 estimators"
   ]
  },
  {
   "cell_type": "code",
   "execution_count": 50,
   "metadata": {},
   "outputs": [],
   "source": [
    "%%R\n",
    "poisson_same<-rep(0,10)\n",
    "hyper_same<-rep(0,10)\n",
    "hyper_diff<-rep(0,10)\n",
    "for(i in 1:10){\n",
    "  set.seed(i)\n",
    "  u1<-runif(1000)\n",
    "  set.seed(i*100+15)\n",
    "  u2<-runif(1000)\n",
    "  set.seed(NULL)\n",
    "  event_poi_same<- poisson_common_number(unif = u1,lambda = 1)\n",
    "  \n",
    "  event_hyper_same<- hyperexp_common_number(unif=u1)\n",
    "  \n",
    "  event_hyper_diff<-hyperexp_common_number(unif=u2)\n",
    "  \n",
    "  poisson_same[i]<-sim_ev_by_ev_common_number(event_poi_same)\n",
    "  hyper_same[i]<-sim_ev_by_ev_common_number(event_hyper_same)\n",
    "  hyper_diff[i]<-sim_ev_by_ev_common_number(event_hyper_diff)\n",
    "}"
   ]
  },
  {
   "cell_type": "markdown",
   "metadata": {},
   "source": [
    "Our interest is to compute the difference between the 2 estimators, so let name this difference as _difference estimator_:"
   ]
  },
  {
   "cell_type": "code",
   "execution_count": 51,
   "metadata": {},
   "outputs": [],
   "source": [
    "%%R\n",
    "x_same<-poisson_same-hyper_same\n",
    "x_diff<-poisson_same-hyper_diff"
   ]
  },
  {
   "cell_type": "code",
   "execution_count": 52,
   "metadata": {},
   "outputs": [
    {
     "name": "stdout",
     "output_type": "stream",
     "text": [
      "\n",
      "The mean of the difference estimator with 10 runs and  WITH common numbers is:\n",
      "[1] -0.056\n"
     ]
    }
   ],
   "source": [
    "%%R\n",
    "cat(\"\",\"The mean of the difference estimator with 10 runs and  WITH common numbers is:\",sep = \"\\n\")\n",
    "mean(x_same)"
   ]
  },
  {
   "cell_type": "code",
   "execution_count": 53,
   "metadata": {},
   "outputs": [
    {
     "name": "stdout",
     "output_type": "stream",
     "text": [
      "\n",
      "The variance of the difference estimator with 10 runs and WITH common numbers is:\n",
      "[1] 0.0004833333\n"
     ]
    }
   ],
   "source": [
    "%%R\n",
    "cat(\"\",\"The variance of the difference estimator with 10 runs and WITH common numbers is:\",sep = \"\\n\")\n",
    "var(x_same)"
   ]
  },
  {
   "cell_type": "code",
   "execution_count": 54,
   "metadata": {},
   "outputs": [
    {
     "name": "stdout",
     "output_type": "stream",
     "text": [
      "\n",
      "The mean of the difference estimator with 10 runs and  WITHOUT common numbers is:\n",
      "[1] -0.0593\n"
     ]
    }
   ],
   "source": [
    "%%R\n",
    "cat(\"\",\"The mean of the difference estimator with 10 runs and  WITHOUT common numbers is:\",sep = \"\\n\")\n",
    "mean(x_diff)"
   ]
  },
  {
   "cell_type": "code",
   "execution_count": 55,
   "metadata": {},
   "outputs": [
    {
     "name": "stdout",
     "output_type": "stream",
     "text": [
      "\n",
      "The variance of the difference estimator with 10 runs and WITHOUT common numbers is:\n",
      "[1] 0.0007822333\n"
     ]
    }
   ],
   "source": [
    "%%R\n",
    "cat(\"\",\"The variance of the difference estimator with 10 runs and WITHOUT common numbers is:\",sep = \"\\n\")\n",
    "var(x_diff)"
   ]
  },
  {
   "cell_type": "markdown",
   "metadata": {},
   "source": [
    "As possible to see the variance is minimal but there is not a _significat_ improvement in general term, in relative term there is a variance reduction around a factor of 2."
   ]
  }
 ],
 "metadata": {
  "kernelspec": {
   "display_name": "Python 3",
   "language": "python",
   "name": "python3"
  },
  "language_info": {
   "codemirror_mode": {
    "name": "ipython",
    "version": 3
   },
   "file_extension": ".py",
   "mimetype": "text/x-python",
   "name": "python",
   "nbconvert_exporter": "python",
   "pygments_lexer": "ipython3",
   "version": "3.6.10"
  }
 },
 "nbformat": 4,
 "nbformat_minor": 4
}
